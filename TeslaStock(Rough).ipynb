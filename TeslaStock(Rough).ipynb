{
 "cells": [
  {
   "cell_type": "markdown",
   "id": "3f9e3007-1192-4a4d-aab9-c7622b6a0ec4",
   "metadata": {},
   "source": [
    "# Predicting Tesla's(TSLA) Stock"
   ]
  },
  {
   "cell_type": "markdown",
   "id": "1f9e5131-67e1-4276-a8d9-113f0e8b3c6c",
   "metadata": {},
   "source": [
    "## Import Utilization Tools\n",
    "Run cell before starting any code"
   ]
  },
  {
   "cell_type": "code",
   "execution_count": 59,
   "id": "8efdb98b-0d22-4ba3-901f-0b8a59825a8d",
   "metadata": {},
   "outputs": [
    {
     "data": {
      "text/html": [
       "<div>\n",
       "<style scoped>\n",
       "    .dataframe tbody tr th:only-of-type {\n",
       "        vertical-align: middle;\n",
       "    }\n",
       "\n",
       "    .dataframe tbody tr th {\n",
       "        vertical-align: top;\n",
       "    }\n",
       "\n",
       "    .dataframe thead th {\n",
       "        text-align: right;\n",
       "    }\n",
       "</style>\n",
       "<table border=\"1\" class=\"dataframe\">\n",
       "  <thead>\n",
       "    <tr style=\"text-align: right;\">\n",
       "      <th></th>\n",
       "      <th>Date</th>\n",
       "      <th>Open</th>\n",
       "      <th>High</th>\n",
       "      <th>Low</th>\n",
       "      <th>Close</th>\n",
       "      <th>Adj Close</th>\n",
       "      <th>Volume</th>\n",
       "    </tr>\n",
       "  </thead>\n",
       "  <tbody>\n",
       "    <tr>\n",
       "      <th>0</th>\n",
       "      <td>6/29/2010</td>\n",
       "      <td>1.266667</td>\n",
       "      <td>1.666667</td>\n",
       "      <td>1.169333</td>\n",
       "      <td>1.592667</td>\n",
       "      <td>1.592667</td>\n",
       "      <td>281494500</td>\n",
       "    </tr>\n",
       "    <tr>\n",
       "      <th>1</th>\n",
       "      <td>6/30/2010</td>\n",
       "      <td>1.719333</td>\n",
       "      <td>2.028000</td>\n",
       "      <td>1.553333</td>\n",
       "      <td>1.588667</td>\n",
       "      <td>1.588667</td>\n",
       "      <td>257806500</td>\n",
       "    </tr>\n",
       "    <tr>\n",
       "      <th>2</th>\n",
       "      <td>7/1/2010</td>\n",
       "      <td>1.666667</td>\n",
       "      <td>1.728000</td>\n",
       "      <td>1.351333</td>\n",
       "      <td>1.464000</td>\n",
       "      <td>1.464000</td>\n",
       "      <td>123282000</td>\n",
       "    </tr>\n",
       "    <tr>\n",
       "      <th>3</th>\n",
       "      <td>7/2/2010</td>\n",
       "      <td>1.533333</td>\n",
       "      <td>1.540000</td>\n",
       "      <td>1.247333</td>\n",
       "      <td>1.280000</td>\n",
       "      <td>1.280000</td>\n",
       "      <td>77097000</td>\n",
       "    </tr>\n",
       "    <tr>\n",
       "      <th>4</th>\n",
       "      <td>7/6/2010</td>\n",
       "      <td>1.333333</td>\n",
       "      <td>1.333333</td>\n",
       "      <td>1.055333</td>\n",
       "      <td>1.074000</td>\n",
       "      <td>1.074000</td>\n",
       "      <td>103003500</td>\n",
       "    </tr>\n",
       "  </tbody>\n",
       "</table>\n",
       "</div>"
      ],
      "text/plain": [
       "        Date      Open      High       Low     Close  Adj Close     Volume\n",
       "0  6/29/2010  1.266667  1.666667  1.169333  1.592667   1.592667  281494500\n",
       "1  6/30/2010  1.719333  2.028000  1.553333  1.588667   1.588667  257806500\n",
       "2   7/1/2010  1.666667  1.728000  1.351333  1.464000   1.464000  123282000\n",
       "3   7/2/2010  1.533333  1.540000  1.247333  1.280000   1.280000   77097000\n",
       "4   7/6/2010  1.333333  1.333333  1.055333  1.074000   1.074000  103003500"
      ]
     },
     "execution_count": 59,
     "metadata": {},
     "output_type": "execute_result"
    }
   ],
   "source": [
    "import pandas as pd\n",
    "import matplotlib.pyplot as plt\n",
    "import seaborn as sns\n",
    "import plotly.express as px\n",
    "%matplotlib inline\n",
    "import matplotlib.transforms as mtransforms\n",
    "from sklearn.model_selection import train_test_split\n",
    "from sklearn.preprocessing import StandardScaler, LabelEncoder\n",
    "from sklearn.metrics import classification_report\n",
    "from sklearn.ensemble import RandomForestClassifier\n",
    "import numpy as np\n",
    "import warnings \n",
    "warnings.filterwarnings('ignore')\n",
    "df = pd.read_csv(\"TSLA-2.csv\")\n",
    "df.head()"
   ]
  },
  {
   "cell_type": "code",
   "execution_count": 60,
   "id": "5c8ce87e-590f-4581-bfe7-60d808f7a8dd",
   "metadata": {},
   "outputs": [
    {
     "data": {
      "text/plain": [
       "Date         datetime64[ns]\n",
       "Open                float64\n",
       "High                float64\n",
       "Low                 float64\n",
       "Close               float64\n",
       "Adj Close           float64\n",
       "Volume                int64\n",
       "dtype: object"
      ]
     },
     "execution_count": 60,
     "metadata": {},
     "output_type": "execute_result"
    }
   ],
   "source": [
    "df['Date'] = pd.to_datetime(df['Date'])\n",
    "df.dtypes"
   ]
  },
  {
   "cell_type": "markdown",
   "id": "ae7670ad-870f-4fc2-835c-791ca52c63fd",
   "metadata": {},
   "source": [
    "# Introduction\n",
    "Tesla is one of the largest well known companies in the United States. Not just for what they produce for consumers, but why it is made, how they are made, who runs it, and how much their stock can be affected by something like a tweet. That is why I felt it would be interesting to try to make predictive modeling visuals of a company that can actually be hard to predict because the CEO Elon Musk felt like tweeting something crazy because he was board, or felt like revealing something new and exciting about the direction his company is going.\n"
   ]
  },
  {
   "cell_type": "markdown",
   "id": "146099e2-c597-4ff6-803c-29b4603caeaf",
   "metadata": {},
   "source": [
    "# Dataset"
   ]
  },
  {
   "cell_type": "markdown",
   "id": "ee4292c7-6d99-4483-ae83-811b890e9d53",
   "metadata": {},
   "source": [
    "This dataset is sourced from [ Tesla Stock Data 2010 - 2024 ](https://www.kaggle.com/datasets/iamtanmayshukla/tesla-stocks-dataset)<br>\n",
    "Which provides a pretty simple overview of Tesla:<br>\n",
    "- <font color=blue>Date</font>\n",
    "- <font color=red>Open(Opening price of the stock)</font>\n",
    "- <font color=green>High(Highest price of the stock for the day)</font>\n",
    "- <font color=pink>Low(Lowest price of the stock for the day)</font>\n",
    "- <font color=orange>Close(Closing price of the stock)</font>\n",
    "- <font color=grey>Adj Close(Adjusted closing price)</font>\n",
    "- <font color=black>Volume(Number of shares traded)</font><br>\n",
    "<br>\n",
    "\n"
   ]
  },
  {
   "cell_type": "markdown",
   "id": "af455757-8770-4945-b6bb-db2fb0473bee",
   "metadata": {},
   "source": [
    "### Data Cleanup\n",
    "(Looking for missing code)<br>\n",
    "(How many rows/columns)<br>\n",
    "(Summarize the central tendency, dispersion and shape of a dataset's distribution, excluding NaN values)<br>"
   ]
  },
  {
   "cell_type": "code",
   "execution_count": 61,
   "id": "f5e794cb-16c3-4a22-a6bc-a0a190f3f2ae",
   "metadata": {
    "scrolled": true
   },
   "outputs": [
    {
     "name": "stdout",
     "output_type": "stream",
     "text": [
      "Series([], dtype: int64)\n"
     ]
    },
    {
     "data": {
      "text/html": [
       "<div>\n",
       "<style scoped>\n",
       "    .dataframe tbody tr th:only-of-type {\n",
       "        vertical-align: middle;\n",
       "    }\n",
       "\n",
       "    .dataframe tbody tr th {\n",
       "        vertical-align: top;\n",
       "    }\n",
       "\n",
       "    .dataframe thead th {\n",
       "        text-align: right;\n",
       "    }\n",
       "</style>\n",
       "<table border=\"1\" class=\"dataframe\">\n",
       "  <thead>\n",
       "    <tr style=\"text-align: right;\">\n",
       "      <th></th>\n",
       "      <th>Date</th>\n",
       "      <th>Open</th>\n",
       "      <th>High</th>\n",
       "      <th>Low</th>\n",
       "      <th>Close</th>\n",
       "      <th>Adj Close</th>\n",
       "      <th>Volume</th>\n",
       "    </tr>\n",
       "  </thead>\n",
       "  <tbody>\n",
       "    <tr>\n",
       "      <th>count</th>\n",
       "      <td>3562</td>\n",
       "      <td>3562.000000</td>\n",
       "      <td>3562.000000</td>\n",
       "      <td>3562.000000</td>\n",
       "      <td>3562.000000</td>\n",
       "      <td>3562.000000</td>\n",
       "      <td>3.562000e+03</td>\n",
       "    </tr>\n",
       "    <tr>\n",
       "      <th>mean</th>\n",
       "      <td>2017-07-25 01:32:34.632229120</td>\n",
       "      <td>76.144584</td>\n",
       "      <td>77.814867</td>\n",
       "      <td>74.365471</td>\n",
       "      <td>76.126834</td>\n",
       "      <td>76.126834</td>\n",
       "      <td>9.689694e+07</td>\n",
       "    </tr>\n",
       "    <tr>\n",
       "      <th>min</th>\n",
       "      <td>2010-06-29 00:00:00</td>\n",
       "      <td>1.076000</td>\n",
       "      <td>1.108667</td>\n",
       "      <td>0.998667</td>\n",
       "      <td>1.053333</td>\n",
       "      <td>1.053333</td>\n",
       "      <td>1.777500e+06</td>\n",
       "    </tr>\n",
       "    <tr>\n",
       "      <th>25%</th>\n",
       "      <td>2014-01-10 18:00:00</td>\n",
       "      <td>11.653167</td>\n",
       "      <td>11.956167</td>\n",
       "      <td>11.328833</td>\n",
       "      <td>11.680500</td>\n",
       "      <td>11.680500</td>\n",
       "      <td>4.793858e+07</td>\n",
       "    </tr>\n",
       "    <tr>\n",
       "      <th>50%</th>\n",
       "      <td>2017-07-25 12:00:00</td>\n",
       "      <td>17.493334</td>\n",
       "      <td>17.713000</td>\n",
       "      <td>17.205334</td>\n",
       "      <td>17.474667</td>\n",
       "      <td>17.474667</td>\n",
       "      <td>8.242725e+07</td>\n",
       "    </tr>\n",
       "    <tr>\n",
       "      <th>75%</th>\n",
       "      <td>2021-02-07 06:00:00</td>\n",
       "      <td>165.437496</td>\n",
       "      <td>169.744996</td>\n",
       "      <td>161.365005</td>\n",
       "      <td>166.289173</td>\n",
       "      <td>166.289173</td>\n",
       "      <td>1.226422e+08</td>\n",
       "    </tr>\n",
       "    <tr>\n",
       "      <th>max</th>\n",
       "      <td>2024-08-22 00:00:00</td>\n",
       "      <td>411.470001</td>\n",
       "      <td>414.496674</td>\n",
       "      <td>405.666656</td>\n",
       "      <td>409.970001</td>\n",
       "      <td>409.970001</td>\n",
       "      <td>9.140820e+08</td>\n",
       "    </tr>\n",
       "    <tr>\n",
       "      <th>std</th>\n",
       "      <td>NaN</td>\n",
       "      <td>102.704572</td>\n",
       "      <td>104.986967</td>\n",
       "      <td>100.219504</td>\n",
       "      <td>102.631107</td>\n",
       "      <td>102.631107</td>\n",
       "      <td>7.849683e+07</td>\n",
       "    </tr>\n",
       "  </tbody>\n",
       "</table>\n",
       "</div>"
      ],
      "text/plain": [
       "                                Date         Open         High          Low  \\\n",
       "count                           3562  3562.000000  3562.000000  3562.000000   \n",
       "mean   2017-07-25 01:32:34.632229120    76.144584    77.814867    74.365471   \n",
       "min              2010-06-29 00:00:00     1.076000     1.108667     0.998667   \n",
       "25%              2014-01-10 18:00:00    11.653167    11.956167    11.328833   \n",
       "50%              2017-07-25 12:00:00    17.493334    17.713000    17.205334   \n",
       "75%              2021-02-07 06:00:00   165.437496   169.744996   161.365005   \n",
       "max              2024-08-22 00:00:00   411.470001   414.496674   405.666656   \n",
       "std                              NaN   102.704572   104.986967   100.219504   \n",
       "\n",
       "             Close    Adj Close        Volume  \n",
       "count  3562.000000  3562.000000  3.562000e+03  \n",
       "mean     76.126834    76.126834  9.689694e+07  \n",
       "min       1.053333     1.053333  1.777500e+06  \n",
       "25%      11.680500    11.680500  4.793858e+07  \n",
       "50%      17.474667    17.474667  8.242725e+07  \n",
       "75%     166.289173   166.289173  1.226422e+08  \n",
       "max     409.970001   409.970001  9.140820e+08  \n",
       "std     102.631107   102.631107  7.849683e+07  "
      ]
     },
     "execution_count": 61,
     "metadata": {},
     "output_type": "execute_result"
    }
   ],
   "source": [
    "missing_values = df.isnull().sum()\n",
    "print(missing_values[missing_values > 0])\n",
    "df.shape"
   ]
  },
  {
   "cell_type": "markdown",
   "id": "a5de4dbc-a524-4c54-961a-47d3654ba18b",
   "metadata": {},
   "source": [
    "## Describing our Data\n",
    "First a general overview of the data and then a scatter pairplot comparing our Adj Close to:<br>\n",
    "- Open\n",
    "- High\n",
    "- Low\n",
    "- Volume"
   ]
  },
  {
   "cell_type": "code",
   "execution_count": 63,
   "id": "a533d25c-97b4-43b8-bf55-e351f514ffac",
   "metadata": {},
   "outputs": [
    {
     "data": {
      "text/html": [
       "<div>\n",
       "<style scoped>\n",
       "    .dataframe tbody tr th:only-of-type {\n",
       "        vertical-align: middle;\n",
       "    }\n",
       "\n",
       "    .dataframe tbody tr th {\n",
       "        vertical-align: top;\n",
       "    }\n",
       "\n",
       "    .dataframe thead th {\n",
       "        text-align: right;\n",
       "    }\n",
       "</style>\n",
       "<table border=\"1\" class=\"dataframe\">\n",
       "  <thead>\n",
       "    <tr style=\"text-align: right;\">\n",
       "      <th></th>\n",
       "      <th>Date</th>\n",
       "      <th>Open</th>\n",
       "      <th>High</th>\n",
       "      <th>Low</th>\n",
       "      <th>Close</th>\n",
       "      <th>Adj Close</th>\n",
       "      <th>Volume</th>\n",
       "    </tr>\n",
       "  </thead>\n",
       "  <tbody>\n",
       "    <tr>\n",
       "      <th>count</th>\n",
       "      <td>3562</td>\n",
       "      <td>3562.000000</td>\n",
       "      <td>3562.000000</td>\n",
       "      <td>3562.000000</td>\n",
       "      <td>3562.000000</td>\n",
       "      <td>3562.000000</td>\n",
       "      <td>3.562000e+03</td>\n",
       "    </tr>\n",
       "    <tr>\n",
       "      <th>mean</th>\n",
       "      <td>2017-07-25 01:32:34.632229120</td>\n",
       "      <td>76.144584</td>\n",
       "      <td>77.814867</td>\n",
       "      <td>74.365471</td>\n",
       "      <td>76.126834</td>\n",
       "      <td>76.126834</td>\n",
       "      <td>9.689694e+07</td>\n",
       "    </tr>\n",
       "    <tr>\n",
       "      <th>min</th>\n",
       "      <td>2010-06-29 00:00:00</td>\n",
       "      <td>1.076000</td>\n",
       "      <td>1.108667</td>\n",
       "      <td>0.998667</td>\n",
       "      <td>1.053333</td>\n",
       "      <td>1.053333</td>\n",
       "      <td>1.777500e+06</td>\n",
       "    </tr>\n",
       "    <tr>\n",
       "      <th>25%</th>\n",
       "      <td>2014-01-10 18:00:00</td>\n",
       "      <td>11.653167</td>\n",
       "      <td>11.956167</td>\n",
       "      <td>11.328833</td>\n",
       "      <td>11.680500</td>\n",
       "      <td>11.680500</td>\n",
       "      <td>4.793858e+07</td>\n",
       "    </tr>\n",
       "    <tr>\n",
       "      <th>50%</th>\n",
       "      <td>2017-07-25 12:00:00</td>\n",
       "      <td>17.493334</td>\n",
       "      <td>17.713000</td>\n",
       "      <td>17.205334</td>\n",
       "      <td>17.474667</td>\n",
       "      <td>17.474667</td>\n",
       "      <td>8.242725e+07</td>\n",
       "    </tr>\n",
       "    <tr>\n",
       "      <th>75%</th>\n",
       "      <td>2021-02-07 06:00:00</td>\n",
       "      <td>165.437496</td>\n",
       "      <td>169.744996</td>\n",
       "      <td>161.365005</td>\n",
       "      <td>166.289173</td>\n",
       "      <td>166.289173</td>\n",
       "      <td>1.226422e+08</td>\n",
       "    </tr>\n",
       "    <tr>\n",
       "      <th>max</th>\n",
       "      <td>2024-08-22 00:00:00</td>\n",
       "      <td>411.470001</td>\n",
       "      <td>414.496674</td>\n",
       "      <td>405.666656</td>\n",
       "      <td>409.970001</td>\n",
       "      <td>409.970001</td>\n",
       "      <td>9.140820e+08</td>\n",
       "    </tr>\n",
       "    <tr>\n",
       "      <th>std</th>\n",
       "      <td>NaN</td>\n",
       "      <td>102.704572</td>\n",
       "      <td>104.986967</td>\n",
       "      <td>100.219504</td>\n",
       "      <td>102.631107</td>\n",
       "      <td>102.631107</td>\n",
       "      <td>7.849683e+07</td>\n",
       "    </tr>\n",
       "  </tbody>\n",
       "</table>\n",
       "</div>"
      ],
      "text/plain": [
       "                                Date         Open         High          Low  \\\n",
       "count                           3562  3562.000000  3562.000000  3562.000000   \n",
       "mean   2017-07-25 01:32:34.632229120    76.144584    77.814867    74.365471   \n",
       "min              2010-06-29 00:00:00     1.076000     1.108667     0.998667   \n",
       "25%              2014-01-10 18:00:00    11.653167    11.956167    11.328833   \n",
       "50%              2017-07-25 12:00:00    17.493334    17.713000    17.205334   \n",
       "75%              2021-02-07 06:00:00   165.437496   169.744996   161.365005   \n",
       "max              2024-08-22 00:00:00   411.470001   414.496674   405.666656   \n",
       "std                              NaN   102.704572   104.986967   100.219504   \n",
       "\n",
       "             Close    Adj Close        Volume  \n",
       "count  3562.000000  3562.000000  3.562000e+03  \n",
       "mean     76.126834    76.126834  9.689694e+07  \n",
       "min       1.053333     1.053333  1.777500e+06  \n",
       "25%      11.680500    11.680500  4.793858e+07  \n",
       "50%      17.474667    17.474667  8.242725e+07  \n",
       "75%     166.289173   166.289173  1.226422e+08  \n",
       "max     409.970001   409.970001  9.140820e+08  \n",
       "std     102.631107   102.631107  7.849683e+07  "
      ]
     },
     "execution_count": 63,
     "metadata": {},
     "output_type": "execute_result"
    }
   ],
   "source": [
    "df.describe()"
   ]
  },
  {
   "cell_type": "code",
   "execution_count": 64,
   "id": "7a8605cd-25f3-4822-ac57-ed60522eac39",
   "metadata": {},
   "outputs": [
    {
     "data": {
      "text/plain": [
       "<seaborn.axisgrid.PairGrid at 0x1f2d7d6d430>"
      ]
     },
     "execution_count": 64,
     "metadata": {},
     "output_type": "execute_result"
    },
    {
     "data": {
      "image/png": "[encoded data removed]",
      "text/plain": [
       "<Figure size 1000x250 with 4 Axes>"
      ]
     },
     "metadata": {},
     "output_type": "display_data"
    }
   ],
   "source": [
    "sns.pairplot(df, kind='scatter', y_vars='Adj Close', x_vars=['Open','High','Low','Volume'], diag_kind='auto', markers=None, height=2.5)"
   ]
  },
  {
   "cell_type": "code",
   "execution_count": null,
   "id": "c3dab3cf-d750-4186-9f0a-3f06931747fd",
   "metadata": {},
   "outputs": [],
   "source": []
  }
 ],
 "metadata": {
  "kernelspec": {
   "display_name": "Python 3 (ipykernel)",
   "language": "python",
   "name": "python3"
  },
  "language_info": {
   "codemirror_mode": {
    "name": "ipython",
    "version": 3
   },
   "file_extension": ".py",
   "mimetype": "text/x-python",
   "name": "python",
   "nbconvert_exporter": "python",
   "pygments_lexer": "ipython3",
   "version": "3.12.4"
  }
 },
 "nbformat": 4,
 "nbformat_minor": 5
}
