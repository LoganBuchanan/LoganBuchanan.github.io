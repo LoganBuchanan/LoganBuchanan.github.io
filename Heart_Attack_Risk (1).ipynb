{
 "cells": [
  {
   "cell_type": "markdown",
   "id": "990f7b26-6f8c-4b9d-a87b-8c77caad122e",
   "metadata": {},
   "source": [
    "# Heart Attack Causes and Treatments"
   ]
  },
  {
   "cell_type": "markdown",
   "id": "5b241ba8-a444-4202-bfc4-ad6403bce31d",
   "metadata": {},
   "source": [
    "## Import Utilization Tools\n",
    "Run cell before starting any code"
   ]
  },
  {
   "cell_type": "code",
   "execution_count": 10,
   "id": "d331ae3e-0492-4641-9191-68b10292a1e4",
   "metadata": {},
   "outputs": [],
   "source": [
    "import pandas as pd\n",
    "import seaborn as sns\n",
    "import matplotlib.pyplot as plt"
   ]
  },
  {
   "cell_type": "markdown",
   "id": "06d677b7-d30e-4668-854e-d719f7f05f14",
   "metadata": {},
   "source": [
    "## Data Import\n",
    "This code imports the datasets for heart attacks and displays the first 5 rows."
   ]
  },
  {
   "cell_type": "code",
   "execution_count": 11,
   "id": "012f47b1-41cf-4de0-ac66-748c50b93f02",
   "metadata": {},
   "outputs": [
    {
     "data": {
      "text/html": [
       "<div>\n",
       "<style scoped>\n",
       "    .dataframe tbody tr th:only-of-type {\n",
       "        vertical-align: middle;\n",
       "    }\n",
       "\n",
       "    .dataframe tbody tr th {\n",
       "        vertical-align: top;\n",
       "    }\n",
       "\n",
       "    .dataframe thead th {\n",
       "        text-align: right;\n",
       "    }\n",
       "</style>\n",
       "<table border=\"1\" class=\"dataframe\">\n",
       "  <thead>\n",
       "    <tr style=\"text-align: right;\">\n",
       "      <th></th>\n",
       "      <th>Gender</th>\n",
       "      <th>Age</th>\n",
       "      <th>Blood Pressure (mmHg)</th>\n",
       "      <th>Cholesterol (mg/dL)</th>\n",
       "      <th>Has Diabetes</th>\n",
       "      <th>Smoking Status</th>\n",
       "      <th>Chest Pain Type</th>\n",
       "      <th>Treatment</th>\n",
       "    </tr>\n",
       "  </thead>\n",
       "  <tbody>\n",
       "    <tr>\n",
       "      <th>0</th>\n",
       "      <td>Male</td>\n",
       "      <td>70</td>\n",
       "      <td>181</td>\n",
       "      <td>262</td>\n",
       "      <td>No</td>\n",
       "      <td>Never</td>\n",
       "      <td>Typical Angina</td>\n",
       "      <td>Lifestyle Changes</td>\n",
       "    </tr>\n",
       "    <tr>\n",
       "      <th>1</th>\n",
       "      <td>Female</td>\n",
       "      <td>55</td>\n",
       "      <td>103</td>\n",
       "      <td>253</td>\n",
       "      <td>Yes</td>\n",
       "      <td>Never</td>\n",
       "      <td>Atypical Angina</td>\n",
       "      <td>Angioplasty</td>\n",
       "    </tr>\n",
       "    <tr>\n",
       "      <th>2</th>\n",
       "      <td>Male</td>\n",
       "      <td>42</td>\n",
       "      <td>95</td>\n",
       "      <td>295</td>\n",
       "      <td>Yes</td>\n",
       "      <td>Current</td>\n",
       "      <td>Typical Angina</td>\n",
       "      <td>Angioplasty</td>\n",
       "    </tr>\n",
       "    <tr>\n",
       "      <th>3</th>\n",
       "      <td>Male</td>\n",
       "      <td>84</td>\n",
       "      <td>106</td>\n",
       "      <td>270</td>\n",
       "      <td>No</td>\n",
       "      <td>Never</td>\n",
       "      <td>Atypical Angina</td>\n",
       "      <td>Coronary Artery Bypass Graft (CABG)</td>\n",
       "    </tr>\n",
       "    <tr>\n",
       "      <th>4</th>\n",
       "      <td>Male</td>\n",
       "      <td>86</td>\n",
       "      <td>187</td>\n",
       "      <td>296</td>\n",
       "      <td>Yes</td>\n",
       "      <td>Current</td>\n",
       "      <td>Non-anginal Pain</td>\n",
       "      <td>Medication</td>\n",
       "    </tr>\n",
       "  </tbody>\n",
       "</table>\n",
       "</div>"
      ],
      "text/plain": [
       "   Gender  Age  Blood Pressure (mmHg)  Cholesterol (mg/dL) Has Diabetes  \\\n",
       "0    Male   70                    181                  262           No   \n",
       "1  Female   55                    103                  253          Yes   \n",
       "2    Male   42                     95                  295          Yes   \n",
       "3    Male   84                    106                  270           No   \n",
       "4    Male   86                    187                  296          Yes   \n",
       "\n",
       "  Smoking Status   Chest Pain Type                            Treatment  \n",
       "0          Never    Typical Angina                    Lifestyle Changes  \n",
       "1          Never   Atypical Angina                          Angioplasty  \n",
       "2        Current    Typical Angina                          Angioplasty  \n",
       "3          Never   Atypical Angina  Coronary Artery Bypass Graft (CABG)  \n",
       "4        Current  Non-anginal Pain                           Medication  "
      ]
     },
     "execution_count": 11,
     "metadata": {},
     "output_type": "execute_result"
    }
   ],
   "source": [
    "heart_attack = pd.read_csv(\"heart_attack_dataset.csv\")\n",
    "\n",
    "heart_attack.head()\n"
   ]
  },
  {
   "cell_type": "markdown",
   "id": "fd77bef9-1213-43b8-bb56-7e0c42c6c23b",
   "metadata": {},
   "source": [
    "# Introduction\n",
    "The purpose of sorting, organizing, and creating visuals for this dataset is to asses the causes of heart attacks, how changes can be made to prevent them, current treatments for the cause of heart attacks, and what demographics are most likely affected. <br>\n",
    "[Data Source](https://www.kaggle.com/datasets/waqi786/heart-attack-dataset) <br>\n",
    "This data is taken from 1,000 patients who have had heart attacks and their treatments.<br>\n",
    "Some features of this data-<br>\n",
    "- <font color=blue>Age</font>\n",
    "- <font color=red>Gender</font>\n",
    "- <font color=green>Blood Pressure</font>\n",
    "- <font color=pink>Cholesterol</font>\n",
    "- <font color=orange>Diabetes(yes/no)</font>\n",
    "- <font color=purple>Smoking Status(yes/no/was)</font>\n",
    "- <font color=grey>Type of chest pain</font>\n",
    "- <font color=black>Treatment</font>\n",
    "\n",
    "\n"
   ]
  },
  {
   "cell_type": "markdown",
   "id": "86763948-00a2-4cca-a939-d24af68e5994",
   "metadata": {},
   "source": [
    "## Check To See If There Are Any Empty or Missing Data \n",
    "This is to make sure that there are no empty or missing values in the dataset that may require fixing or removing."
   ]
  },
  {
   "cell_type": "code",
   "execution_count": 13,
   "id": "55d6079a-1d44-4f3c-a6aa-03cb501d7736",
   "metadata": {
    "scrolled": true
   },
   "outputs": [
    {
     "name": "stdout",
     "output_type": "stream",
     "text": [
      "Series([], dtype: int64)\n"
     ]
    }
   ],
   "source": [
    "missing_values = heart_attack.isnull().sum()\n",
    "\n",
    "print(missing_values[missing_values > 0])"
   ]
  },
  {
   "cell_type": "markdown",
   "id": "e4e3b6d0-1c32-4fe1-b0f4-9cdd24229a2f",
   "metadata": {},
   "source": [
    "## Data Pre-Processing\n",
    "Making sure to organize data by types and converting it so it can be used in visuals easier."
   ]
  },
  {
   "cell_type": "markdown",
   "id": "97430fca-3ee8-44d6-b6dc-4917f9ac45da",
   "metadata": {},
   "source": [
    "### Check Column DataType"
   ]
  },
  {
   "cell_type": "code",
   "execution_count": 14,
   "id": "4a95955b-a531-4d20-a67a-54b350760aa7",
   "metadata": {},
   "outputs": [
    {
     "data": {
      "text/plain": [
       "Gender                   object\n",
       "Age                       int64\n",
       "Blood Pressure (mmHg)     int64\n",
       "Cholesterol (mg/dL)       int64\n",
       "Has Diabetes             object\n",
       "Smoking Status           object\n",
       "Chest Pain Type          object\n",
       "Treatment                object\n",
       "dtype: object"
      ]
     },
     "execution_count": 14,
     "metadata": {},
     "output_type": "execute_result"
    }
   ],
   "source": [
    "heart_attack.dtypes"
   ]
  },
  {
   "cell_type": "markdown",
   "id": "90b616ab-ecb7-48f2-b028-e15730434bed",
   "metadata": {},
   "source": [
    "### Fix Age\n",
    "So that we can make sure all ages of the dataset are used."
   ]
  },
  {
   "cell_type": "code",
   "execution_count": 15,
   "id": "30f2e244-6e17-4d2c-bb02-88d7df41cd1d",
   "metadata": {},
   "outputs": [
    {
     "name": "stdout",
     "output_type": "stream",
     "text": [
      "0\n"
     ]
    }
   ],
   "source": [
    "heart_attack['Age'] = heart_attack['Age'].fillna(-1.0)\n",
    "\n",
    "print(heart_attack['Age'].isnull().sum())"
   ]
  },
  {
   "cell_type": "markdown",
   "id": "cb17e3c6-6414-4c77-bab9-a412da7c7d62",
   "metadata": {},
   "source": [
    "# 1. Age and Relation to Heart Attacks\n",
    "We will look at the relation between age and heart attacks."
   ]
  },
  {
   "cell_type": "markdown",
   "id": "7da36958-2a19-4b40-9824-ef970f31c6df",
   "metadata": {},
   "source": [
    "### 1.a Number of Heart Attacks by Age.\n",
    "Create a lineplot that goes over the amount of hear attacks per age."
   ]
  },
  {
   "cell_type": "code",
   "execution_count": 19,
   "id": "8ccb15c9-4111-41bb-99d3-9579ae0fcacc",
   "metadata": {},
   "outputs": [
    {
     "data": {
      "text/plain": [
       "<Figure size 5000x5000 with 0 Axes>"
      ]
     },
     "execution_count": 19,
     "metadata": {},
     "output_type": "execute_result"
    },
    {
     "data": {
      "image/png": "[encoded data removed]",
      "text/plain": [
       "<Figure size 640x480 with 1 Axes>"
      ]
     },
     "metadata": {},
     "output_type": "display_data"
    },
    {
     "data": {
      "text/plain": [
       "<Figure size 5000x5000 with 0 Axes>"
      ]
     },
     "metadata": {},
     "output_type": "display_data"
    }
   ],
   "source": [
    "age_counts = heart_attack['Age'].value_counts()\n",
    "\n",
    "plt.bar(x=age_counts.index, height=age_counts.values)\n",
    "plt.title(\"Heart Attacks Per Age\")\n",
    "plt.xlabel(\"Age\")\n",
    "plt.ylabel(\"Ammount of Hearts Attacks with a sample of 1000\")\n",
    "plt.figure(figsize=(50,50))"
   ]
  },
  {
   "cell_type": "markdown",
   "id": "3b2ba862-9e72-4716-ad4d-bba33e5462c8",
   "metadata": {},
   "source": [
    "## What this Graph Tells Us.\n",
    "This Graph shows the average ages for when someone may have a heart attack. Of course this data isn't perfect, it doesn't compare the data to a random sample in which the population includes people who haven't had heart attacks, however this data does show that if there are health risk factors in, your life what age you might expect to have a heart attack. This graph also shows how no matter the age, as long as your lifestyle is unhealthy you are at risk of heart attack."
   ]
  }
 ],
 "metadata": {
  "kernelspec": {
   "display_name": "Python 3 (ipykernel)",
   "language": "python",
   "name": "python3"
  },
  "language_info": {
   "codemirror_mode": {
    "name": "ipython",
    "version": 3
   },
   "file_extension": ".py",
   "mimetype": "text/x-python",
   "name": "python",
   "nbconvert_exporter": "python",
   "pygments_lexer": "ipython3",
   "version": "3.12.4"
  }
 },
 "nbformat": 4,
 "nbformat_minor": 5
}
